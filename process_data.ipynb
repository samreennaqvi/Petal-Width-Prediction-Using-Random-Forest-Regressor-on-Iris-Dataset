{
 "cells": [
  {
   "cell_type": "code",
   "execution_count": 1,
   "id": "8533cc0e-d70a-4d03-afda-14d21d0294ee",
   "metadata": {},
   "outputs": [
    {
     "name": "stdout",
     "output_type": "stream",
     "text": [
      "{'session_info': {'project_id': '1', 'experiment_id': 'kkkk-11', 'dataset': 'iris_modified.csv', 'session_name': 'test', 'session_description': 'test'}, 'target': {'prediction_type': 'Regression', 'target': 'petal_width', 'type': 'regression', 'partitioning': True}, 'train': {'policy': 'Split the dataset', 'time_variable': 'sepal_length', 'sampling_method': 'No sampling(whole data)', 'split': 'Randomly', 'k_fold': False, 'train_ratio': 0, 'random_seed': 0}, 'metrics': {'optomize_model_hyperparameters_for': 'AUC', 'optimize_threshold_for': 'F1 Score', 'compute_lift_at': 0, 'cost_matrix_gain_for_true_prediction_true_result': 1, 'cost_matrix_gain_for_true_prediction_false_result': 0, 'cost_matrix_gain_for_false_prediction_true_result': 0, 'cost_matrix_gain_for_false_prediction_false_result': 0}, 'feature_handling': {'sepal_length': {'feature_name': 'sepal_length', 'is_selected': True, 'feature_variable_type': 'numerical', 'feature_details': {'numerical_handling': 'Keep as regular numerical feature', 'rescaling': 'No rescaling', 'make_derived_feats': False, 'missing_values': 'Impute', 'impute_with': 'Average of values', 'impute_value': 0}}, 'sepal_width': {'feature_name': 'sepal_width', 'is_selected': True, 'feature_variable_type': 'numerical', 'feature_details': {'numerical_handling': 'Keep as regular numerical feature', 'rescaling': 'No rescaling', 'make_derived_feats': False, 'missing_values': 'Impute', 'impute_with': 'custom', 'impute_value': -1}}, 'petal_length': {'feature_name': 'petal_length', 'is_selected': True, 'feature_variable_type': 'numerical', 'feature_details': {'numerical_handling': 'Keep as regular numerical feature', 'rescaling': 'No rescaling', 'make_derived_feats': False, 'missing_values': 'Impute', 'impute_with': 'Average of values', 'impute_value': 0}}, 'petal_width': {'feature_name': 'petal_width', 'is_selected': True, 'feature_variable_type': 'numerical', 'feature_details': {'numerical_handling': 'Keep as regular numerical feature', 'rescaling': 'No rescaling', 'make_derived_feats': False, 'missing_values': 'Impute', 'impute_with': 'custom', 'impute_value': -2}}, 'species': {'feature_name': 'species', 'is_selected': True, 'feature_variable_type': 'text', 'feature_details': {'text_handling': 'Tokenize and hash', 'hash_columns': 0}}}, 'feature_generation': {'linear_interactions': [['petal_length', 'sepal_width']], 'linear_scalar_type': 'robust', 'polynomial_interactions': ['petal_length/sepal_width', 'petal_width/species'], 'explicit_pairwise_interactions': ['sepal_width/sepal_length', 'petal_width/sepal_length']}, 'feature_reduction': {'feature_reduction_method': 'Tree-based', 'num_of_features_to_keep': '4', 'num_of_trees': '5', 'depth_of_trees': '6'}, 'hyperparameters': {'stratergy': 'Grid Search', 'shuffle_grid': True, 'random_state': 1, 'max_iterations': 2, 'max_search_time': 3, 'parallelism': 5, 'cross_validation_stratergy': 'Time-based K-fold(with overlap)', 'num_of_folds': 6, 'split_ratio': 0, 'stratified': True}, 'weighting_stratergy': {'weighting_stratergy_method': 'Sample weights', 'weighting_stratergy_weight_variable': 'petal_length'}, 'probability_calibration': {'probability_calibration_method': 'Sigmoid - Platt Scaling'}, 'algorithms': {'RandomForestClassifier': {'model_name': 'Random Forest Classifier', 'is_selected': False, 'min_trees': 10, 'max_trees': 30, 'feature_sampling_statergy': 'Default', 'min_depth': 20, 'max_depth': 30, 'min_samples_per_leaf_min_value': 5, 'min_samples_per_leaf_max_value': 50, 'parallelism': 0}, 'RandomForestRegressor': {'model_name': 'Random Forest Regressor', 'is_selected': True, 'min_trees': 10, 'max_trees': 20, 'feature_sampling_statergy': 'Default', 'min_depth': 20, 'max_depth': 25, 'min_samples_per_leaf_min_value': 5, 'min_samples_per_leaf_max_value': 10, 'parallelism': 0}, 'GBTClassifier': {'model_name': 'Gradient Boosted Trees', 'is_selected': False, 'num_of_BoostingStages': [67, 89], 'feature_sampling_statergy': 'Fixed number', 'learningRate': [], 'use_deviance': True, 'use_exponential': False, 'fixed_number': 22, 'min_subsample': 1, 'max_subsample': 2, 'min_stepsize': 0.1, 'max_stepsize': 0.5, 'min_iter': 20, 'max_iter': 40, 'min_depth': 5, 'max_depth': 7}, 'GBTRegressor': {'model_name': 'Gradient Boosted Trees', 'is_selected': False, 'num_of_BoostingStages': [67, 89], 'feature_sampling_statergy': 'Fixed number', 'use_deviance': True, 'use_exponential': False, 'fixed_number': 22, 'min_subsample': 1, 'max_subsample': 2, 'min_stepsize': 0.1, 'max_stepsize': 0.5, 'min_iter': 20, 'max_iter': 40, 'min_depth': 5, 'max_depth': 7}, 'LinearRegression': {'model_name': 'LinearRegression', 'is_selected': False, 'parallelism': 2, 'min_iter': 30, 'max_iter': 50, 'min_regparam': 0.5, 'max_regparam': 0.8, 'min_elasticnet': 0.5, 'max_elasticnet': 0.8}, 'LogisticRegression': {'model_name': 'LogisticRegression', 'is_selected': False, 'parallelism': 2, 'min_iter': 30, 'max_iter': 50, 'min_regparam': 0.5, 'max_regparam': 0.8, 'min_elasticnet': 0.5, 'max_elasticnet': 0.8}, 'RidgeRegression': {'model_name': 'RidgeRegression', 'is_selected': False, 'regularization_term': 'Specify values to test', 'min_iter': 30, 'max_iter': 50, 'min_regparam': 0.5, 'max_regparam': 0.8}, 'LassoRegression': {'model_name': 'Lasso Regression', 'is_selected': False, 'regularization_term': 'Specify values to test', 'min_iter': 30, 'max_iter': 50, 'min_regparam': 0.5, 'max_regparam': 0.8}, 'ElasticNetRegression': {'model_name': 'Lasso Regression', 'is_selected': False, 'regularization_term': 'Specify values to test', 'min_iter': 30, 'max_iter': 50, 'min_regparam': 0.5, 'max_regparam': 0.8, 'min_elasticnet': 0.5, 'max_elasticnet': 0.8}, 'xg_boost': {'model_name': 'XG Boost', 'is_selected': False, 'use_gradient_boosted_tree': True, 'dart': True, 'tree_method': '', 'random_state': 0, 'max_num_of_trees': 0, 'early_stopping': True, 'early_stopping_rounds': 2, 'max_depth_of_tree': [56, 89], 'learningRate': [89, 76], 'l1_regularization': [77], 'l2_regularization': [78], 'gamma': [68], 'min_child_weight': [67], 'sub_sample': [67], 'col_sample_by_tree': [67], 'replace_missing_values': False, 'parallelism': 0}, 'DecisionTreeRegressor': {'model_name': 'Decision Tree', 'is_selected': False, 'min_depth': 4, 'max_depth': 7, 'use_gini': False, 'use_entropy': True, 'min_samples_per_leaf': [12, 6], 'use_best': True, 'use_random': True}, 'DecisionTreeClassifier': {'model_name': 'Decision Tree', 'is_selected': False, 'min_depth': 4, 'max_depth': 7, 'use_gini': False, 'use_entropy': True, 'min_samples_per_leaf': [12, 6], 'use_best': True, 'use_random': True}, 'SVM': {'model_name': 'Support Vector Machine', 'is_selected': False, 'linear_kernel': True, 'rep_kernel': True, 'polynomial_kernel': True, 'sigmoid_kernel': True, 'c_value': [566, 79], 'auto': True, 'scale': True, 'custom_gamma_values': True, 'tolerance': 7, 'max_iterations': 7}, 'SGD': {'model_name': 'Stochastic Gradient Descent', 'is_selected': False, 'use_logistics': True, 'use_modified_hubber_loss': False, 'max_iterations': False, 'tolerance': 56, 'use_l1_regularization': 'on', 'use_l2_regularization': 'on', 'use_elastic_net_regularization': True, 'alpha_value': [79, 56], 'parallelism': 1}, 'KNN': {'model_name': 'KNN', 'is_selected': False, 'k_value': [78], 'distance_weighting': True, 'neighbour_finding_algorithm': 'Automatic', 'random_state': 0, 'p_value': 0}, 'extra_random_trees': {'model_name': 'Extra Random Trees', 'is_selected': False, 'num_of_trees': [45, 489], 'feature_sampling_statergy': 'Square root and Logarithm', 'max_depth': [12, 45], 'min_samples_per_leaf': [78, 56], 'parallelism': 3}, 'neural_network': {'model_name': 'Neural Network', 'is_selected': False, 'hidden_layer_sizes': [67, 89], 'activation': '', 'alpha_value': 0, 'max_iterations': 0, 'convergence_tolerance': 0, 'early_stopping': True, 'solver': 'ADAM', 'shuffle_data': True, 'initial_learning_rate': 0, 'automatic_batching': True, 'beta_1': 0, 'beta_2': 0, 'epsilon': 0, 'power_t': 0, 'momentum': 0, 'use_nesterov_momentum': False}}}\n"
     ]
    }
   ],
   "source": [
    "import json\n",
    "\n",
    "with open(\"C:\\\\Users\\\\samre\\\\Downloads\\\\ml_assignment\\\\algoparams_from_ui.json\") as f:\n",
    "    config = json.load(f)\n",
    "\n",
    "print(config['design_state_data'])\n"
   ]
  },
  {
   "cell_type": "code",
   "execution_count": 2,
   "id": "ec0dcdcd-37f0-4f92-a316-33f100ca1fbb",
   "metadata": {},
   "outputs": [],
   "source": [
    "import pandas as pd\n",
    "import numpy as np\n",
    "import json\n",
    "import os\n",
    "\n",
    "from sklearn.model_selection import train_test_split, GridSearchCV\n",
    "from sklearn.impute import SimpleImputer\n",
    "from sklearn.preprocessing import StandardScaler, OneHotEncoder\n",
    "from sklearn.ensemble import RandomForestRegressor\n",
    "from sklearn.feature_selection import SelectFromModel\n",
    "from sklearn.pipeline import Pipeline\n",
    "from sklearn.compose import ColumnTransformer\n",
    "from sklearn.metrics import r2_score, mean_squared_error\n",
    "\n",
    "import warnings\n",
    "warnings.filterwarnings(\"ignore\")\n"
   ]
  },
  {
   "cell_type": "code",
   "execution_count": 3,
   "id": "7ea7c374-a0e2-4baa-a2b6-62fbfffaf3fc",
   "metadata": {},
   "outputs": [],
   "source": [
    "def load_data(dataset_path, target_column):\n",
    "    df = pd.read_csv(\"C:\\\\Users\\\\samre\\\\Downloads\\\\DS_Assignment - internship\\\\Screening Test - DS\\\\iris.csv\")\n",
    "    df = df.drop_duplicates()\n",
    "    df = df.dropna(subset=[target_column])  # drop rows where target is missing\n",
    "    return df\n"
   ]
  },
  {
   "cell_type": "code",
   "execution_count": 4,
   "id": "71edcd90-af34-41cd-98bf-f2abd504dadd",
   "metadata": {},
   "outputs": [],
   "source": [
    "def build_preprocessor(feature_handling_config, df):\n",
    "    num_impute = []\n",
    "    num_custom_values = {}\n",
    "    cat_features = []\n",
    "\n",
    "    for col, info in feature_handling_config.items():\n",
    "        if not info['is_selected']:\n",
    "            continue\n",
    "        details = info['feature_details']\n",
    "        if info['feature_variable_type'] == 'numerical':\n",
    "            if details['impute_with'] == 'Average of values':\n",
    "                num_impute.append(col)\n",
    "            elif details['impute_with'] == 'custom':\n",
    "                num_custom_values[col] = details['impute_value']\n",
    "        elif info['feature_variable_type'] == 'text':\n",
    "            cat_features.append(col)\n",
    "\n",
    "    # Create imputers\n",
    "    transformers = []\n",
    "\n",
    "    if num_impute:\n",
    "        transformers.append(('num_mean_imputer', SimpleImputer(strategy='mean'), num_impute))\n",
    "    \n",
    "    if cat_features:\n",
    "        transformers.append(('cat_encoder', OneHotEncoder(handle_unknown='ignore'), cat_features))\n",
    "    \n",
    "    # Custom imputation is done manually outside of ColumnTransformer\n",
    "    return ColumnTransformer(transformers), num_custom_values\n"
   ]
  },
  {
   "cell_type": "code",
   "execution_count": 5,
   "id": "3bf409bb-60db-4435-ad38-63d2d95603f1",
   "metadata": {},
   "outputs": [],
   "source": [
    "def apply_custom_imputation(df, custom_values):\n",
    "    for col, val in custom_values.items():\n",
    "        df[col] = df[col].fillna(val)\n",
    "    return df\n"
   ]
  },
  {
   "cell_type": "code",
   "execution_count": 6,
   "id": "90fc0a4d-ce90-43a2-9acf-e62c6fef728d",
   "metadata": {},
   "outputs": [],
   "source": [
    "def apply_feature_reduction(X, y, method='tree_based'):\n",
    "    model = RandomForestRegressor(n_estimators=10, random_state=42)\n",
    "    model.fit(X, y)\n",
    "    selector = SelectFromModel(model, prefit=True, threshold=\"median\")\n",
    "    return selector.transform(X), selector\n"
   ]
  },
  {
   "cell_type": "code",
   "execution_count": 7,
   "id": "36cd5cd2-fab8-41c5-9e5e-a70c5712becb",
   "metadata": {},
   "outputs": [],
   "source": [
    "def split_data(X, y, strategy='random', test_size=0.2):\n",
    "    return train_test_split(X, y, test_size=test_size, random_state=42)\n"
   ]
  },
  {
   "cell_type": "code",
   "execution_count": 8,
   "id": "a96d409a-d900-4a94-9b1b-68c82327439e",
   "metadata": {},
   "outputs": [],
   "source": [
    "def train_model(X_train, X_test, y_train, y_test, algo_config):\n",
    "    model_results = {}\n",
    "    for model_name, model_info in algo_config.items():\n",
    "        if not model_info.get('is_selected', False):\n",
    "            continue\n",
    "        if model_name == 'RandomForestRegressor':\n",
    "            param_grid = {\n",
    "                'n_estimators': [model_info['min_trees'], model_info['max_trees']],\n",
    "                'max_depth': [model_info['min_depth'], model_info['max_depth']],\n",
    "                'min_samples_leaf': [model_info['min_samples_per_leaf_min_value'], model_info['min_samples_per_leaf_max_value']]\n",
    "            }\n",
    "            base_model = RandomForestRegressor(random_state=42)\n",
    "            grid = GridSearchCV(base_model, param_grid, cv=3, scoring='r2')\n",
    "            grid.fit(X_train, y_train)\n",
    "            preds = grid.predict(X_test)\n",
    "\n",
    "            model_results[model_name] = {\n",
    "                'best_params': grid.best_params_,\n",
    "                'r2': r2_score(y_test, preds),\n",
    "                'rmse': mean_squared_error(y_test, preds, squared=False)\n",
    "            }\n",
    "    return model_results\n"
   ]
  },
  {
   "cell_type": "code",
   "execution_count": 9,
   "id": "31a172b0-3036-4801-867e-14bc3b287385",
   "metadata": {},
   "outputs": [],
   "source": [
    "def save_results(results, filename='result.json'):\n",
    "    with open(filename, 'w') as f:\n",
    "        json.dump(results, f, indent=4)\n"
   ]
  },
  {
   "cell_type": "code",
   "execution_count": 11,
   "id": "b2c47aa7-96e7-4d16-86ba-8b8f84f2f5d5",
   "metadata": {},
   "outputs": [],
   "source": [
    "def main():\n",
    "    config_path = 'algoparams_from_ui.json'\n",
    "    config = load_config(config_path)\n",
    "\n",
    "    dataset_path = config['session_info']['dataset']\n",
    "    target = config['target']['target']\n",
    "    df = load_data(dataset_path, target)\n",
    "\n",
    "    X = df.drop(columns=[target])\n",
    "    y = df[target]\n",
    "\n",
    "    # Feature Handling\n",
    "    preprocessor, custom_values = build_preprocessor(config['feature_handling'], X)\n",
    "    X = apply_custom_imputation(X, custom_values)\n",
    "\n",
    "    # Apply ColumnTransformer\n",
    "    X = preprocessor.fit_transform(X)\n",
    "\n",
    "    # Optional: Feature Reduction\n",
    "    X, selector = apply_feature_reduction(X, y)\n",
    "\n",
    "    # Split\n",
    "    X_train, X_test, y_train, y_test = split_data(X, y)\n",
    "\n",
    "    # Model Training\n",
    "    results = train_model(X_train, X_test, y_train, y_test, config['algorithms'])\n",
    "\n",
    "    # Save Output\n",
    "    save_results(results)\n",
    "\n",
    "    print(\"Done. Results saved to result.json\")\n"
   ]
  },
  {
   "cell_type": "markdown",
   "id": "ed8716a5-1da6-430a-9ff9-103d40c0a455",
   "metadata": {},
   "source": [
    "# FINAL CODE"
   ]
  },
  {
   "cell_type": "code",
   "execution_count": 1,
   "id": "7aed43cd-612e-4b91-85fa-74efe9f42203",
   "metadata": {},
   "outputs": [
    {
     "name": "stdout",
     "output_type": "stream",
     "text": [
      "\n",
      "✅ Best Model Params: {'max_depth': 20, 'min_samples_leaf': 5, 'n_estimators': 15}\n",
      "R² Score: 0.9293920913583217\n",
      "Mean Squared Error (MSE): 0.03608848663908004\n",
      "Mean Absolute Error (MAE): 0.14173496757418327\n"
     ]
    }
   ],
   "source": [
    "\n",
    "\n",
    "import pandas as pd\n",
    "import numpy as np\n",
    "from sklearn.ensemble import RandomForestRegressor\n",
    "from sklearn.impute import SimpleImputer\n",
    "from sklearn.model_selection import train_test_split, GridSearchCV, TimeSeriesSplit\n",
    "from sklearn.metrics import r2_score, mean_squared_error, mean_absolute_error\n",
    "\n",
    "# Load dataset\n",
    "df = pd.read_csv(\"C:\\\\Users\\\\samre\\\\Downloads\\\\DS_Assignment - internship\\\\Screening Test - DS\\\\iris.csv\")\n",
    "\n",
    "# -------------------------\n",
    "# Step 1: Handle Missing Values (based on your config)\n",
    "impute_strategies = {\n",
    "    'sepal_length': 'median',\n",
    "    'sepal_width': 'mean',\n",
    "    'petal_length': 'most_frequent',\n",
    "    'petal_width': 'mean'\n",
    "}\n",
    "\n",
    "for col, strategy in impute_strategies.items():\n",
    "    imputer = SimpleImputer(strategy=strategy)\n",
    "    df[col] = imputer.fit_transform(df[[col]])\n",
    "\n",
    "# -------------------------\n",
    "# Step 2: Feature Engineering\n",
    "df['linear_interaction'] = df['petal_length'] * df['sepal_width']\n",
    "df['polynomial_interaction'] = df['petal_length'] / (df['sepal_width'] + 1e-6)  # to avoid divide by zero\n",
    "df['explicit_interaction'] = df['sepal_length'] + df['petal_width']\n",
    "\n",
    "# -------------------------\n",
    "# Step 3: Define Features and Target\n",
    "features = ['sepal_length', 'sepal_width', 'petal_length', \n",
    "            'linear_interaction', 'polynomial_interaction', 'explicit_interaction']\n",
    "target = 'petal_width'\n",
    "\n",
    "X = df[features]\n",
    "y = df[target]\n",
    "\n",
    "# -------------------------\n",
    "# Step 4: Feature Reduction (Tree-based - Top 4 by importance)\n",
    "# Temporary model to get feature importances\n",
    "temp_model = RandomForestRegressor(random_state=0)\n",
    "temp_model.fit(X, y)\n",
    "importances = temp_model.feature_importances_\n",
    "\n",
    "# Get top 4 important features\n",
    "top_indices = np.argsort(importances)[::-1][:4]\n",
    "X = X.iloc[:, top_indices]\n",
    "\n",
    "# -------------------------\n",
    "# Step 5: Train-Test Split (70-30)\n",
    "X_train, X_test, y_train, y_test = train_test_split(\n",
    "    X, y, train_size=0.7, random_state=0, shuffle=True\n",
    ")\n",
    "\n",
    "# -------------------------\n",
    "# Step 6: Model Training with Grid Search + TimeSeriesSplit\n",
    "param_grid = {\n",
    "    'n_estimators': [10, 15, 20],\n",
    "    'max_depth': [20, 22, 25],\n",
    "    'min_samples_leaf': [5, 7, 10]\n",
    "}\n",
    "\n",
    "tscv = TimeSeriesSplit(n_splits=6)\n",
    "model = RandomForestRegressor(random_state=0)\n",
    "grid = GridSearchCV(model, param_grid, cv=tscv)\n",
    "grid.fit(X_train, y_train)\n",
    "\n",
    "# -------------------------\n",
    "# Step 7: Evaluation\n",
    "best_model = grid.best_estimator_\n",
    "y_pred = best_model.predict(X_test)\n",
    "\n",
    "print(\"\\n✅ Best Model Params:\", grid.best_params_)\n",
    "print(\"R² Score:\", r2_score(y_test, y_pred))\n",
    "print(\"Mean Squared Error (MSE):\", mean_squared_error(y_test, y_pred))\n",
    "print(\"Mean Absolute Error (MAE):\", mean_absolute_error(y_test, y_pred))\n"
   ]
  },
  {
   "cell_type": "code",
   "execution_count": null,
   "id": "1cb910c6-8095-44bf-a7a4-7f7fcab6beb8",
   "metadata": {},
   "outputs": [],
   "source": []
  }
 ],
 "metadata": {
  "kernelspec": {
   "display_name": "Python 3 (ipykernel)",
   "language": "python",
   "name": "python3"
  },
  "language_info": {
   "codemirror_mode": {
    "name": "ipython",
    "version": 3
   },
   "file_extension": ".py",
   "mimetype": "text/x-python",
   "name": "python",
   "nbconvert_exporter": "python",
   "pygments_lexer": "ipython3",
   "version": "3.11.7"
  }
 },
 "nbformat": 4,
 "nbformat_minor": 5
}
